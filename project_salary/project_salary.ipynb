{
 "cells": [
  {
   "cell_type": "markdown",
   "metadata": {},
   "source": [
    "# Welcome to Project: Salary!\n",
    "(insert introduction here)"
   ]
  },
  {
   "cell_type": "markdown",
   "metadata": {},
   "source": [
    "## Pre-lab survey\n",
    "(insert if we're still doing this)"
   ]
  },
  {
   "cell_type": "markdown",
   "metadata": {},
   "source": [
    "## Group\n",
    "Edit the next Python cell to add information about who you're working with in your lab section. You'll be collaborating closely with your group, so try to get to know them a bit!"
   ]
  },
  {
   "cell_type": "code",
   "execution_count": 2,
   "metadata": {},
   "outputs": [],
   "source": [
    "#First, write down the name of your TAs and CAs\n",
    "ta_name = \" \"\n",
    "ca1_name = \" \"\n",
    "ca2_name = \" \"\n",
    "ca3_name = \" \"\n",
    "\n",
    "# Also, find out some information about your group members: their name, what major they're in,\n",
    "# and learn something new about them that you never knew before!\n",
    "partner1_name = \" \"\n",
    "partner1_netid = \" \"\n",
    "partner1_major = \" \"\n",
    "\n",
    "partner2_name = \" \"\n",
    "partner2_netid = \" \"\n",
    "partner2_major = \" \"\n",
    "\n",
    "partner3_name = \"\"\n",
    "partner3_netid = \"\"\n",
    "partner3_major = \"\""
   ]
  },
  {
   "cell_type": "markdown",
   "metadata": {},
   "source": [
    "# Part 1: Exploring the datasets\n",
    "We're dealing with some pretty interesting data in this project, so let's get familiar with it. In this section, you will explore the salary dataset in some puzzles to help you get used the type of analysis you'll do on your own later."
   ]
  },
  {
   "cell_type": "markdown",
   "metadata": {},
   "source": [
    "## Installing MatPlotLib\n",
    "\n",
    "A key part of data communication is making visualizations –– but to do that, we need to make sure `matplotlib` is installed. \n",
    "\n",
    "Pull up your terminal and run the following code:\n",
    "\n",
    "WINDOWS USERS:\n",
    "\n",
    "`py -m pip  install matplotlib`\n",
    "\n",
    "MacOS USERS: \n",
    "\n",
    "`python3 -m pip install matplotlib`"
   ]
  },
  {
   "cell_type": "markdown",
   "metadata": {},
   "source": [
    "## Importing the Data\n",
    "And, obviously, we'll have to import the data before using it. In the same directory as this notebook, find the dataset called `graybook.csv`. You know what to do to import pandas and matplotlib and read in the data!\n",
    "\n",
    "Go ahead and display the dataframe, too. Look at the variable names, the number of rows and columns, and anything else you may notice!"
   ]
  },
  {
   "cell_type": "code",
   "execution_count": 3,
   "metadata": {},
   "outputs": [],
   "source": [
    "#import pandas, matplotlib, and the dataset below\n",
    "\n",
    "gb = ..."
   ]
  },
  {
   "cell_type": "code",
   "execution_count": 4,
   "metadata": {},
   "outputs": [
    {
     "data": {
      "text/html": [
       "<div>\n",
       "<style scoped>\n",
       "    .dataframe tbody tr th:only-of-type {\n",
       "        vertical-align: middle;\n",
       "    }\n",
       "\n",
       "    .dataframe tbody tr th {\n",
       "        vertical-align: top;\n",
       "    }\n",
       "\n",
       "    .dataframe thead th {\n",
       "        text-align: right;\n",
       "    }\n",
       "</style>\n",
       "<table border=\"1\" class=\"dataframe\">\n",
       "  <thead>\n",
       "    <tr style=\"text-align: right;\">\n",
       "      <th></th>\n",
       "      <th>Employee Name</th>\n",
       "      <th>Academic Title</th>\n",
       "      <th>Primary Job Title</th>\n",
       "      <th>Primary College</th>\n",
       "      <th>Primary Department</th>\n",
       "      <th>Salary</th>\n",
       "      <th>PrevFTE</th>\n",
       "      <th>FTE</th>\n",
       "      <th>All Titles</th>\n",
       "      <th>Empl Class</th>\n",
       "      <th>PrevSalary</th>\n",
       "    </tr>\n",
       "  </thead>\n",
       "  <tbody>\n",
       "    <tr>\n",
       "      <th>0</th>\n",
       "      <td>Edakara, Manu I</td>\n",
       "      <td>NaN</td>\n",
       "      <td>ASSOC DIR ENTREPRNRL CMTY</td>\n",
       "      <td>Business</td>\n",
       "      <td>Academy Entrepreneurial Ldrshp</td>\n",
       "      <td>66300.00</td>\n",
       "      <td>1.0</td>\n",
       "      <td>1.0</td>\n",
       "      <td>['ASSOC DIR ENTREPRNRL CMTY']</td>\n",
       "      <td>['BA']</td>\n",
       "      <td>65000.00</td>\n",
       "    </tr>\n",
       "    <tr>\n",
       "      <th>1</th>\n",
       "      <td>Quarton, John Edward</td>\n",
       "      <td>NaN</td>\n",
       "      <td>SR DIR INNOVA ENTRPRNRL PRGM</td>\n",
       "      <td>Business</td>\n",
       "      <td>Academy Entrepreneurial Ldrshp</td>\n",
       "      <td>150480.70</td>\n",
       "      <td>1.0</td>\n",
       "      <td>1.0</td>\n",
       "      <td>['SR DIR INNOVA ENTRPRNRL PRGM' 'DIR HOEFT T&amp;M...</td>\n",
       "      <td>['BA']</td>\n",
       "      <td>147530.00</td>\n",
       "    </tr>\n",
       "    <tr>\n",
       "      <th>2</th>\n",
       "      <td>Werpetinski, Valeri A</td>\n",
       "      <td>NaN</td>\n",
       "      <td>VST ASSOC DIR, ENTRPRNRL EDUC</td>\n",
       "      <td>Business</td>\n",
       "      <td>Academy Entrepreneurial Ldrshp</td>\n",
       "      <td>71400.00</td>\n",
       "      <td>1.0</td>\n",
       "      <td>1.0</td>\n",
       "      <td>['VST ASSOC DIR, ENTRPRNRL EDUC']</td>\n",
       "      <td>['BA']</td>\n",
       "      <td>70000.00</td>\n",
       "    </tr>\n",
       "    <tr>\n",
       "      <th>3</th>\n",
       "      <td>Abdel-Khalik, Ahmed Rashad</td>\n",
       "      <td>PROF</td>\n",
       "      <td>PROF</td>\n",
       "      <td>Business</td>\n",
       "      <td>Accountancy</td>\n",
       "      <td>318007.00</td>\n",
       "      <td>1.0</td>\n",
       "      <td>1.0</td>\n",
       "      <td>['DIR CIERA' 'PROF' 'V K ZIMMERMAN PROF']</td>\n",
       "      <td>['BC' 'AA']</td>\n",
       "      <td>312556.00</td>\n",
       "    </tr>\n",
       "    <tr>\n",
       "      <th>4</th>\n",
       "      <td>Ahmed, Waqar</td>\n",
       "      <td>LECTURER</td>\n",
       "      <td>LECTURER</td>\n",
       "      <td>Business</td>\n",
       "      <td>Accountancy</td>\n",
       "      <td>96691.00</td>\n",
       "      <td>1.0</td>\n",
       "      <td>1.0</td>\n",
       "      <td>['LECTURER']</td>\n",
       "      <td>['AA']</td>\n",
       "      <td>96691.00</td>\n",
       "    </tr>\n",
       "    <tr>\n",
       "      <th>...</th>\n",
       "      <td>...</td>\n",
       "      <td>...</td>\n",
       "      <td>...</td>\n",
       "      <td>...</td>\n",
       "      <td>...</td>\n",
       "      <td>...</td>\n",
       "      <td>...</td>\n",
       "      <td>...</td>\n",
       "      <td>...</td>\n",
       "      <td>...</td>\n",
       "      <td>...</td>\n",
       "    </tr>\n",
       "    <tr>\n",
       "      <th>3550</th>\n",
       "      <td>Wolfson, Ouri</td>\n",
       "      <td>PROF</td>\n",
       "      <td>???</td>\n",
       "      <td>???</td>\n",
       "      <td>???</td>\n",
       "      <td>200456.78</td>\n",
       "      <td>0.0</td>\n",
       "      <td>0.0</td>\n",
       "      <td>['PROF']</td>\n",
       "      <td>['AA']</td>\n",
       "      <td>200456.78</td>\n",
       "    </tr>\n",
       "    <tr>\n",
       "      <th>3551</th>\n",
       "      <td>Wu, Maryalice S</td>\n",
       "      <td>ADJ ASST PROF</td>\n",
       "      <td>???</td>\n",
       "      <td>???</td>\n",
       "      <td>???</td>\n",
       "      <td>81962.71</td>\n",
       "      <td>0.0</td>\n",
       "      <td>0.0</td>\n",
       "      <td>['ADJ ASST PROF']</td>\n",
       "      <td>['AA']</td>\n",
       "      <td>80355.60</td>\n",
       "    </tr>\n",
       "    <tr>\n",
       "      <th>3552</th>\n",
       "      <td>Yau, Peter M</td>\n",
       "      <td>RES ASST PROF</td>\n",
       "      <td>???</td>\n",
       "      <td>???</td>\n",
       "      <td>???</td>\n",
       "      <td>131447.50</td>\n",
       "      <td>0.0</td>\n",
       "      <td>0.0</td>\n",
       "      <td>['RES ASST PROF']</td>\n",
       "      <td>['AL']</td>\n",
       "      <td>128617.91</td>\n",
       "    </tr>\n",
       "    <tr>\n",
       "      <th>3553</th>\n",
       "      <td>Yodh, Jaya G</td>\n",
       "      <td>RES ASST PROF</td>\n",
       "      <td>???</td>\n",
       "      <td>???</td>\n",
       "      <td>???</td>\n",
       "      <td>112200.00</td>\n",
       "      <td>0.0</td>\n",
       "      <td>0.0</td>\n",
       "      <td>['RES ASST PROF']</td>\n",
       "      <td>['AL']</td>\n",
       "      <td>110000.00</td>\n",
       "    </tr>\n",
       "    <tr>\n",
       "      <th>3554</th>\n",
       "      <td>Zerai, Assata</td>\n",
       "      <td>PROF</td>\n",
       "      <td>???</td>\n",
       "      <td>???</td>\n",
       "      <td>???</td>\n",
       "      <td>187530.00</td>\n",
       "      <td>0.0</td>\n",
       "      <td>0.0</td>\n",
       "      <td>['PROF']</td>\n",
       "      <td>['AA']</td>\n",
       "      <td>184441.29</td>\n",
       "    </tr>\n",
       "  </tbody>\n",
       "</table>\n",
       "<p>3555 rows × 11 columns</p>\n",
       "</div>"
      ],
      "text/plain": [
       "                   Employee Name Academic Title  \\\n",
       "0                Edakara, Manu I            NaN   \n",
       "1           Quarton, John Edward            NaN   \n",
       "2          Werpetinski, Valeri A            NaN   \n",
       "3     Abdel-Khalik, Ahmed Rashad           PROF   \n",
       "4                   Ahmed, Waqar       LECTURER   \n",
       "...                          ...            ...   \n",
       "3550               Wolfson, Ouri           PROF   \n",
       "3551             Wu, Maryalice S  ADJ ASST PROF   \n",
       "3552                Yau, Peter M  RES ASST PROF   \n",
       "3553                Yodh, Jaya G  RES ASST PROF   \n",
       "3554               Zerai, Assata           PROF   \n",
       "\n",
       "                  Primary Job Title Primary College  \\\n",
       "0         ASSOC DIR ENTREPRNRL CMTY        Business   \n",
       "1      SR DIR INNOVA ENTRPRNRL PRGM        Business   \n",
       "2     VST ASSOC DIR, ENTRPRNRL EDUC        Business   \n",
       "3                              PROF        Business   \n",
       "4                          LECTURER        Business   \n",
       "...                             ...             ...   \n",
       "3550                            ???             ???   \n",
       "3551                            ???             ???   \n",
       "3552                            ???             ???   \n",
       "3553                            ???             ???   \n",
       "3554                            ???             ???   \n",
       "\n",
       "                  Primary Department     Salary  PrevFTE  FTE  \\\n",
       "0     Academy Entrepreneurial Ldrshp   66300.00      1.0  1.0   \n",
       "1     Academy Entrepreneurial Ldrshp  150480.70      1.0  1.0   \n",
       "2     Academy Entrepreneurial Ldrshp   71400.00      1.0  1.0   \n",
       "3                        Accountancy  318007.00      1.0  1.0   \n",
       "4                        Accountancy   96691.00      1.0  1.0   \n",
       "...                              ...        ...      ...  ...   \n",
       "3550                             ???  200456.78      0.0  0.0   \n",
       "3551                             ???   81962.71      0.0  0.0   \n",
       "3552                             ???  131447.50      0.0  0.0   \n",
       "3553                             ???  112200.00      0.0  0.0   \n",
       "3554                             ???  187530.00      0.0  0.0   \n",
       "\n",
       "                                             All Titles   Empl Class  \\\n",
       "0                         ['ASSOC DIR ENTREPRNRL CMTY']       ['BA']   \n",
       "1     ['SR DIR INNOVA ENTRPRNRL PRGM' 'DIR HOEFT T&M...       ['BA']   \n",
       "2                     ['VST ASSOC DIR, ENTRPRNRL EDUC']       ['BA']   \n",
       "3             ['DIR CIERA' 'PROF' 'V K ZIMMERMAN PROF']  ['BC' 'AA']   \n",
       "4                                          ['LECTURER']       ['AA']   \n",
       "...                                                 ...          ...   \n",
       "3550                                           ['PROF']       ['AA']   \n",
       "3551                                  ['ADJ ASST PROF']       ['AA']   \n",
       "3552                                  ['RES ASST PROF']       ['AL']   \n",
       "3553                                  ['RES ASST PROF']       ['AL']   \n",
       "3554                                           ['PROF']       ['AA']   \n",
       "\n",
       "      PrevSalary  \n",
       "0       65000.00  \n",
       "1      147530.00  \n",
       "2       70000.00  \n",
       "3      312556.00  \n",
       "4       96691.00  \n",
       "...          ...  \n",
       "3550   200456.78  \n",
       "3551    80355.60  \n",
       "3552   128617.91  \n",
       "3553   110000.00  \n",
       "3554   184441.29  \n",
       "\n",
       "[3555 rows x 11 columns]"
      ]
     },
     "execution_count": 4,
     "metadata": {},
     "output_type": "execute_result"
    }
   ],
   "source": [
    "#DELETE THIS CELL: FOR MY OWN PURPOSES ONLY\n",
    "import pandas as pd\n",
    "gb = pd.read_csv(\"graybook-t.csv\")\n",
    "gb"
   ]
  },
  {
   "cell_type": "markdown",
   "metadata": {},
   "source": [
    "## Puzzle 1: Exploratory Data Analysis (EDA)\n",
    "EDA is one of the best ways to familiarize yourself with a dataset. That's why data scientists always start with this step. Think about what this data can tell you and what variables are incldued. \n"
   ]
  },
  {
   "cell_type": "markdown",
   "metadata": {},
   "source": [
    "### Puzzle 1.1: Salary Guess\n",
    "Before we do any calculations, make a guess: what do you think the average salary is at UIUC? Enter your answer below."
   ]
  },
  {
   "cell_type": "markdown",
   "metadata": {},
   "source": [
    "❓ **Individual Reflection Question** ❓\n",
    "\n",
    "Guess for overall average salary: ***Double click this cell to type your guess here.***"
   ]
  },
  {
   "cell_type": "markdown",
   "metadata": {},
   "source": [
    "### Puzzle 1.2: Descriptive Statistics\n",
    "Next, using all of the data, find the following information:\n",
    "1. the number of employees at UIUC\n",
    "2. the mean salary\n",
    "3. the median salary\n",
    "4. the standard deviation of the salaries"
   ]
  },
  {
   "cell_type": "code",
   "execution_count": 5,
   "metadata": {},
   "outputs": [
    {
     "data": {
      "text/plain": [
       "Ellipsis"
      ]
     },
     "execution_count": 5,
     "metadata": {},
     "output_type": "execute_result"
    }
   ],
   "source": [
    "#number of employees\n",
    "university_num_emp = ...\n",
    "university_num_emp"
   ]
  },
  {
   "cell_type": "code",
   "execution_count": 6,
   "metadata": {},
   "outputs": [
    {
     "data": {
      "text/plain": [
       "Ellipsis"
      ]
     },
     "execution_count": 6,
     "metadata": {},
     "output_type": "execute_result"
    }
   ],
   "source": [
    "#mean salary\n",
    "university_mean_sal = ...\n",
    "university_mean_sal"
   ]
  },
  {
   "cell_type": "code",
   "execution_count": 7,
   "metadata": {},
   "outputs": [],
   "source": [
    "#median salary\n",
    "university_median_sal = ...\n",
    "university_median_sal = ..."
   ]
  },
  {
   "cell_type": "code",
   "execution_count": 8,
   "metadata": {},
   "outputs": [
    {
     "data": {
      "text/plain": [
       "Ellipsis"
      ]
     },
     "execution_count": 8,
     "metadata": {},
     "output_type": "execute_result"
    }
   ],
   "source": [
    "#standard deviation\n",
    "university_std_sal = ...\n",
    "university_std_sal"
   ]
  },
  {
   "cell_type": "markdown",
   "metadata": {},
   "source": [
    "### Puzzle 1.3: What caused these results?"
   ]
  },
  {
   "cell_type": "markdown",
   "metadata": {},
   "source": [
    "**❓ Individual Reflection ❓** Write a few sentences answering the following questions: Is the mean or median larger? Why do you think this might be the case? What does the standard deviation tell you in this context?"
   ]
  },
  {
   "cell_type": "markdown",
   "metadata": {},
   "source": [
    "***Double click this cell to type your response to the individual reflection question here.*** "
   ]
  },
  {
   "cell_type": "code",
   "execution_count": 9,
   "metadata": {},
   "outputs": [
    {
     "ename": "TypeError",
     "evalue": "unsupported operand type(s) for +: 'ellipsis' and 'ellipsis'",
     "output_type": "error",
     "traceback": [
      "\u001b[0;31m---------------------------------------------------------------------------\u001b[0m",
      "\u001b[0;31mTypeError\u001b[0m                                 Traceback (most recent call last)",
      "\u001b[0;32m/var/folders/lm/1lwdlmhd6kl5mdhrvqdc9_ch0000gn/T/ipykernel_52412/2230868087.py\u001b[0m in \u001b[0;36m<module>\u001b[0;34m\u001b[0m\n\u001b[1;32m      3\u001b[0m \u001b[0;31m# - If this cell runs with a message (with the emoji showing), you PASSED all test cases!\u001b[0m\u001b[0;34m\u001b[0m\u001b[0;34m\u001b[0m\u001b[0;34m\u001b[0m\u001b[0m\n\u001b[1;32m      4\u001b[0m \u001b[0;31m# - If this cell results in any errors, check your previous cell, make changes, and RE-RUN your code and then this cell.\u001b[0m\u001b[0;34m\u001b[0m\u001b[0;34m\u001b[0m\u001b[0;34m\u001b[0m\u001b[0m\n\u001b[0;32m----> 5\u001b[0;31m \u001b[0mx\u001b[0m \u001b[0;34m=\u001b[0m \u001b[0muniversity_num_emp\u001b[0m \u001b[0;34m+\u001b[0m \u001b[0muniversity_mean_sal\u001b[0m \u001b[0;34m+\u001b[0m \u001b[0muniversity_median_sal\u001b[0m \u001b[0;34m+\u001b[0m \u001b[0muniversity_std_sal\u001b[0m\u001b[0;34m\u001b[0m\u001b[0;34m\u001b[0m\u001b[0m\n\u001b[0m\u001b[1;32m      6\u001b[0m \u001b[0my\u001b[0m \u001b[0;34m=\u001b[0m \u001b[0;34m(\u001b[0m\u001b[0;34m(\u001b[0m\u001b[0muniversity_mean_sal\u001b[0m \u001b[0;34m-\u001b[0m \u001b[0muniversity_median_sal\u001b[0m\u001b[0;34m)\u001b[0m \u001b[0;34m*\u001b[0m \u001b[0muniversity_std_sal\u001b[0m\u001b[0;34m)\u001b[0m \u001b[0;34m/\u001b[0m \u001b[0muniversity_num_emp\u001b[0m\u001b[0;34m\u001b[0m\u001b[0;34m\u001b[0m\u001b[0m\n\u001b[1;32m      7\u001b[0m \u001b[0;34m\u001b[0m\u001b[0m\n",
      "\u001b[0;31mTypeError\u001b[0m: unsupported operand type(s) for +: 'ellipsis' and 'ellipsis'"
     ]
    }
   ],
   "source": [
    "## == TEST CASES for Puzzle 1.2 ==\n",
    "# - This read-only cell contains test cases for your previous cell.\n",
    "# - If this cell runs with a message (with the emoji showing), you PASSED all test cases!\n",
    "# - If this cell results in any errors, check your previous cell, make changes, and RE-RUN your code and then this cell.\n",
    "x = university_num_emp + university_mean_sal + university_median_sal + university_std_sal\n",
    "y = ((university_mean_sal - university_median_sal) * university_std_sal) / university_num_emp\n",
    "\n",
    "assert( abs(x - 246964.21165107167) < 1 ), \"It looks like your calculations are off?\"\n",
    "assert( abs(y - 221601.415478511) < 1 ), \"It looks like your calculations are off?\"\n",
    "\n",
    "## == SUCCESS MESSAGE ==\n",
    "# You will only see this message (with the emoji showing) if you passed all test cases:\n",
    "tada = \"\\N{PARTY POPPER}\"\n",
    "print(f\"{tada} All tests passed! {tada}\")"
   ]
  },
  {
   "cell_type": "markdown",
   "metadata": {},
   "source": [
    "### Puzzle 1.4: Highest Paid Employees\n",
    "Find the 10 highest paid employees at the University of Illinois. Store the results in df_high."
   ]
  },
  {
   "cell_type": "code",
   "execution_count": null,
   "metadata": {},
   "outputs": [
    {
     "data": {
      "text/plain": [
       "Ellipsis"
      ]
     },
     "execution_count": 55,
     "metadata": {},
     "output_type": "execute_result"
    }
   ],
   "source": [
    "#top 10 salaries\n",
    "\n",
    "gb_high = ...\n",
    "gb_high"
   ]
  },
  {
   "cell_type": "code",
   "execution_count": null,
   "metadata": {},
   "outputs": [
    {
     "ename": "AttributeError",
     "evalue": "'ellipsis' object has no attribute 'reset_index'",
     "output_type": "error",
     "traceback": [
      "\u001b[0;31m---------------------------------------------------------------------------\u001b[0m",
      "\u001b[0;31mAttributeError\u001b[0m                            Traceback (most recent call last)",
      "\u001b[0;32m/var/folders/lm/1lwdlmhd6kl5mdhrvqdc9_ch0000gn/T/ipykernel_49356/1743946903.py\u001b[0m in \u001b[0;36m<module>\u001b[0;34m\u001b[0m\n\u001b[1;32m      4\u001b[0m \u001b[0;31m# - If this cell results in any errors, check your previous cell, make changes, and RE-RUN your code and then this cell.\u001b[0m\u001b[0;34m\u001b[0m\u001b[0;34m\u001b[0m\u001b[0;34m\u001b[0m\u001b[0m\n\u001b[1;32m      5\u001b[0m \u001b[0;34m\u001b[0m\u001b[0m\n\u001b[0;32m----> 6\u001b[0;31m \u001b[0mdf_test\u001b[0m \u001b[0;34m=\u001b[0m \u001b[0mdf_high\u001b[0m\u001b[0;34m.\u001b[0m\u001b[0mreset_index\u001b[0m\u001b[0;34m(\u001b[0m\u001b[0;34m)\u001b[0m\u001b[0;34m\u001b[0m\u001b[0;34m\u001b[0m\u001b[0m\n\u001b[0m\u001b[1;32m      7\u001b[0m \u001b[0;32massert\u001b[0m\u001b[0;34m(\u001b[0m\u001b[0mlen\u001b[0m\u001b[0;34m(\u001b[0m\u001b[0mdf_test\u001b[0m\u001b[0;34m)\u001b[0m \u001b[0;34m==\u001b[0m \u001b[0;36m10\u001b[0m\u001b[0;34m)\u001b[0m\u001b[0;34m,\u001b[0m \u001b[0;34m\"It looks like you have the wrong number of rows!\"\u001b[0m\u001b[0;34m\u001b[0m\u001b[0;34m\u001b[0m\u001b[0m\n\u001b[1;32m      8\u001b[0m \u001b[0;32massert\u001b[0m\u001b[0;34m(\u001b[0m\u001b[0mdf_test\u001b[0m\u001b[0;34m.\u001b[0m\u001b[0mat\u001b[0m\u001b[0;34m[\u001b[0m\u001b[0;36m0\u001b[0m\u001b[0;34m,\u001b[0m \u001b[0;34m\"Employee Name\"\u001b[0m\u001b[0;34m]\u001b[0m \u001b[0;34m==\u001b[0m \u001b[0;34m\"Jones, Robert J\"\u001b[0m\u001b[0;34m)\u001b[0m\u001b[0;34m,\u001b[0m \u001b[0;34m\"It looks like the data you selected is incorrect!\"\u001b[0m\u001b[0;34m\u001b[0m\u001b[0;34m\u001b[0m\u001b[0m\n",
      "\u001b[0;31mAttributeError\u001b[0m: 'ellipsis' object has no attribute 'reset_index'"
     ]
    }
   ],
   "source": [
    "## == TEST CASES for Puzzle 1.4 ==\n",
    "# - This read-only cell contains test cases for your previous cell.\n",
    "# - If this cell runs with a message (with the emoji showing), you PASSED all test cases!\n",
    "# - If this cell results in any errors, check your previous cell, make changes, and RE-RUN your code and then this cell.\n",
    "\n",
    "df_test = gb_high.reset_index()\n",
    "assert(len(df_test) == 10), \"It looks like you have the wrong number of rows!\"\n",
    "assert(df_test.at[0, \"Employee Name\"] == \"Jones, Robert J\"), \"It looks like the data you selected is incorrect!\"\n",
    "\n",
    "## == SUCCESS MESSAGE ==\n",
    "# You will only see this message (with the emoji showing) if you passed all test cases:\n",
    "tada = \"\\N{PARTY POPPER}\"\n",
    "print(f\"{tada} All tests passed! {tada}\")"
   ]
  },
  {
   "cell_type": "markdown",
   "metadata": {},
   "source": [
    "### Puzzle 1.4: What type of employee gets paid the most?\n",
    "❓ **Individual Reflection Question** ❓ Take a look at the top 10 salaries displayed in df_high. What position seems to be common at the top? Did the highest paid employee surprise you? You can expand df_high for a more complete picture if you need to."
   ]
  },
  {
   "cell_type": "markdown",
   "metadata": {},
   "source": [
    "***Double click this cell to type your response to the individual reflection question here.*** "
   ]
  },
  {
   "cell_type": "markdown",
   "metadata": {},
   "source": [
    "### Visual displays of data –– A key part of EDA!\n",
    "Now, we are a bit more familiar with the dataset and have some summary statistics down. Looking at these overal lnumbers helps us summarize all the observations in a column rather than having to scroll through all of the observations, which is certainly helpful. However, descriptive statistics along don't tell the whole story.\n",
    "\n",
    "In lecture, we will see Anscombe's Quartet, which is a set of 4 datasets with the exact same descriptive statitics. The catch? The datasets look wildly different from each other when their data is actually graphed. This demonstrates that visual displays of data are also a necessary part of EDA. So let's apply this to the graybook!"
   ]
  },
  {
   "cell_type": "markdown",
   "metadata": {},
   "source": [
    "### Puzzle 1.5: Histograms\n",
    "Let's start by looking at one of the most simple, yet powerful visual displays of data: a histogram. Histograms are used to show the overall shape of the data and the frequency of specific values or value ranges. Create a frequency histogram of the salaries at UIUC."
   ]
  },
  {
   "cell_type": "code",
   "execution_count": null,
   "metadata": {},
   "outputs": [],
   "source": [
    "# Create your histogram here!\n"
   ]
  },
  {
   "cell_type": "markdown",
   "metadata": {},
   "source": [
    "### Puzzle 1.6: Boxplots\n",
    "Next, let's look at another simple, yet powerful visualization: a boxplot! Create a boxplot of the overall salary data at UIUC."
   ]
  },
  {
   "cell_type": "code",
   "execution_count": null,
   "metadata": {},
   "outputs": [],
   "source": [
    "# Create your boxplot here!\n"
   ]
  },
  {
   "cell_type": "markdown",
   "metadata": {},
   "source": [
    "### Puzzle 1.7: Why use visualizations?\n",
    "❓ **Individual Reflection Question** ❓ Explain why it is valuable to look at visual displays of salary data in additon to descriptive statistics like the mean, media, and SD. Write at least three sentences, and share your response with your group members!"
   ]
  },
  {
   "cell_type": "markdown",
   "metadata": {},
   "source": [
    "***Double click this cell to type your response to the individual reflection question here.*** "
   ]
  },
  {
   "cell_type": "markdown",
   "metadata": {},
   "source": [
    "## Puzzle 2: Department-Level Data\n",
    "One of the most interesting properties of the salary dataset is that each professor's department is specified. With some data science skills, we can calculate descriptive statistics and look at visual displays of data for each department –– and potentially uncover any salary discrepancies between them."
   ]
  },
  {
   "cell_type": "markdown",
   "metadata": {},
   "source": [
    "### Puzzle 2.1: Creating department groups\n",
    "There was a certain function you learned that will help you **group** all of the people in each department and find departmental aggregates, like the mean. In other words, you want to group by `Primary Department`.\n",
    "\n",
    "Next, instead of just grouping by a single aggregate, use **Python list syntax** to aggregate by `count`, `mean`, and `median` to find the mean and median salary, as well as the count for how many people are in each department. This way, everything will be displayed in the same dataframe. \n",
    "\n",
    "*For help, you can view technical docs here:\n",
    "https://pandas.pydata.org/pandas-docs/stable/reference/groupby.html)*\n",
    "\n",
    "Sort the salary dataframe into departments and aggregate according to the listed functions. Store the result in a new dataframe called `gb_group`."
   ]
  },
  {
   "cell_type": "code",
   "execution_count": null,
   "metadata": {},
   "outputs": [],
   "source": [
    "#create your new dataframe here!\n",
    "\n",
    "gb_group = ...\n",
    "\n",
    "#Since we only care about two columns here –– primary department and\n",
    "#salary –– modify gb_group by selecting only those columns.\n",
    "\n",
    "gb_group = ...\n",
    "\n",
    "#Finally, to make sure everything works, display 5 random rows:\n"
   ]
  },
  {
   "cell_type": "code",
   "execution_count": null,
   "metadata": {},
   "outputs": [],
   "source": [
    "## == TEST CASES for Puzzle 2.1 ==\n",
    "# - This read-only cell contains test cases for your previous cell.\n",
    "# - If this cell runs with a message (with the emoji showing), you PASSED all test cases!\n",
    "# - If this cell results in any errors, check your previous cell, make changes, and RE-RUN your code and then this cell.\n",
    "assert( len(agg_df) == 140 ), \"You should have 140 different departments.  Check to make sure you grouped the data?\"\n",
    "assert( \"Salary\" in agg_df ), \"You must have a salary output\"\n",
    "assert( \"mean\" in agg_df[\"Salary\"] ), \"Make sure you have a mean in your salary\"\n",
    "assert( \"count\" in agg_df[\"Salary\"] ), \"Make sure you have a count in your salary\"\n",
    "assert( \"median\" in agg_df[\"Salary\"] ), \"Make sure you have a median in your salary\"\n",
    "assert( len(agg_df.columns) == 4 ), \"Make sure you have ONLY the salary data and the department\"\n",
    "\n",
    "## == SUCCESS MESSAGE ==\n",
    "# You will only see this message (with the emoji showing) if you passed all test cases:\n",
    "tada = \"\\N{PARTY POPPER}\"\n",
    "print(f\"{tada} All tests passed! {tada}\")"
   ]
  },
  {
   "cell_type": "markdown",
   "metadata": {},
   "source": [
    "### Puzzle 2.2: Bar Chart\n",
    "\n",
    "Next, we're going to create a bar chart that displays the average salary for each department. However, because of the nature of the data, there are a few things to be careful of:\n",
    "- Since there are 140 different departments in the dataset, the default size will look very cramped. Use parameters to alter the `figsize` of the bar chart and make the graph cleaner.\n",
    "- You will also have to specify the columns you want for your x and y axes.\n",
    "    - However, since we aggregated the dataframe, the `mean` column is a sub-column under `salary` so it's a bit harder to access.   We'll have to use a special selection method called **MultiIndexing**. The format to access a sub-column is the following:\n",
    "        - `[('bigColumn', 'subColumn')]`\n",
    "    - Keep this format in mind –– it allows you to explore a lot more with grouped dataframes!\n",
    "\n",
    "*For help with this visualization, the documentation for bar charts in pandas is linked here: https://pandas.pydata.org/docs/reference/api/pandas.DataFrame.boxplot.html*\n",
    "\n",
    "*And a post on MultiIndexing: https://stackoverflow.com/questions/64199119/how-to-access-subcolumns-of-pandas-dataframe-and-plot-them-in-python*"
   ]
  },
  {
   "cell_type": "code",
   "execution_count": null,
   "metadata": {},
   "outputs": [],
   "source": [
    "#Create your bar chart here!"
   ]
  },
  {
   "cell_type": "markdown",
   "metadata": {},
   "source": [
    "### Puzzle 2.3: Interpreting the Box Plot\n",
    "❓ **Individual Reflection Question** ❓ Now that you've made a readable box plot, what does it show you? Write a sentence or two about a discovery you made with this visualization."
   ]
  },
  {
   "cell_type": "markdown",
   "metadata": {},
   "source": [
    "***Double click this cell to type your response to the individual reflection question here.*** "
   ]
  },
  {
   "cell_type": "markdown",
   "metadata": {},
   "source": [
    "### Puzzle 2.4: It's getting personal\n",
    "Make a dataframe containing all the employees of your home department and create a histogram of their salaries. In other words, if your major is Journalism, you should have a histogram of all the salaries in the Journalism Department. Then, find the maximum and minimum salary in your home department. If your major is undecided, pick a department you are interested in.\n",
    "\n",
    "Keep this new dataframe in mind, because it will be used later in the project!"
   ]
  },
  {
   "cell_type": "code",
   "execution_count": null,
   "metadata": {},
   "outputs": [],
   "source": [
    "# histogram of your home department\n"
   ]
  },
  {
   "cell_type": "code",
   "execution_count": null,
   "metadata": {},
   "outputs": [
    {
     "name": "stdout",
     "output_type": "stream",
     "text": [
      "Ellipsis\n",
      "Ellipsis\n"
     ]
    }
   ],
   "source": [
    "# find the max and min salary in your home department\n",
    "max_salary = ...\n",
    "print(max_salary)\n",
    "\n",
    "min_salary = ...\n",
    "print(min_salary)"
   ]
  },
  {
   "cell_type": "markdown",
   "metadata": {},
   "source": [
    "### Puzzle 2.5: Group Discussion\n",
    "❓ **Individual Reflection Question** ❓ Share the resuls with the people at your table. Do you notice any similarities or differences between departments? \n",
    "Below, write down something you learned from your group discussion. "
   ]
  },
  {
   "cell_type": "markdown",
   "metadata": {},
   "source": [
    "***Double click this cell to type your response to the individual reflection question here.*** "
   ]
  },
  {
   "cell_type": "markdown",
   "metadata": {},
   "source": [
    "# Part 2: Salaries and Society\n",
    "Data can often reveal systemic problems or discrimination. For example, in many companies, men and women are promoted at different rates –– or, akin to the topic of this lab, are paid different salaries. \n",
    "\n",
    "## Puzzle 3: Gender in STEM\n",
    "\n",
    "Let’s look at a subset of the salary dataset to investigate whether or not there is a difference in salaries between faculty who identify as men and women in two departments. We have salary data for the STAT and CS departments (Karle and Wade’s home departments) and have compiled it in a dataset called `statcssalaries.csv`. This data is also located in the same directory as this lab!"
   ]
  },
  {
   "cell_type": "markdown",
   "metadata": {},
   "source": [
    "### Puzzle 3.1: Loading the new dataset\n",
    "Load the second dataset, `statcssalaries.csv,` into a dataframe called sc. Take a look at its qualities. How is the data –– specifically the columns included –– different from the first salary dataset?"
   ]
  },
  {
   "cell_type": "code",
   "execution_count": null,
   "metadata": {},
   "outputs": [],
   "source": [
    "#load dataset here\n",
    "sc = ...\n",
    "sc"
   ]
  },
  {
   "cell_type": "code",
   "execution_count": 11,
   "metadata": {},
   "outputs": [
    {
     "data": {
      "text/html": [
       "<div>\n",
       "<style scoped>\n",
       "    .dataframe tbody tr th:only-of-type {\n",
       "        vertical-align: middle;\n",
       "    }\n",
       "\n",
       "    .dataframe tbody tr th {\n",
       "        vertical-align: top;\n",
       "    }\n",
       "\n",
       "    .dataframe thead th {\n",
       "        text-align: right;\n",
       "    }\n",
       "</style>\n",
       "<table border=\"1\" class=\"dataframe\">\n",
       "  <thead>\n",
       "    <tr style=\"text-align: right;\">\n",
       "      <th></th>\n",
       "      <th>Employee Name</th>\n",
       "      <th>Academic Title</th>\n",
       "      <th>Primary Job Title</th>\n",
       "      <th>Primary College</th>\n",
       "      <th>Primary Department</th>\n",
       "      <th>Salary</th>\n",
       "      <th>Gender</th>\n",
       "    </tr>\n",
       "  </thead>\n",
       "  <tbody>\n",
       "    <tr>\n",
       "      <th>0</th>\n",
       "      <td>Abdelzaher, Tarek</td>\n",
       "      <td>PROF</td>\n",
       "      <td>PROF</td>\n",
       "      <td>Engineering</td>\n",
       "      <td>Computer Science</td>\n",
       "      <td>164851.00</td>\n",
       "      <td>M</td>\n",
       "    </tr>\n",
       "    <tr>\n",
       "      <th>1</th>\n",
       "      <td>Adve, Sarita V</td>\n",
       "      <td>PROF</td>\n",
       "      <td>PROF</td>\n",
       "      <td>Engineering</td>\n",
       "      <td>Computer Science</td>\n",
       "      <td>180490.00</td>\n",
       "      <td>F</td>\n",
       "    </tr>\n",
       "    <tr>\n",
       "      <th>2</th>\n",
       "      <td>Adve, Vikram Sadanand</td>\n",
       "      <td>PROF</td>\n",
       "      <td>PROF</td>\n",
       "      <td>Engineering</td>\n",
       "      <td>Computer Science</td>\n",
       "      <td>186454.00</td>\n",
       "      <td>M</td>\n",
       "    </tr>\n",
       "    <tr>\n",
       "      <th>3</th>\n",
       "      <td>Agha, Gul A</td>\n",
       "      <td>PROF</td>\n",
       "      <td>PROF</td>\n",
       "      <td>Engineering</td>\n",
       "      <td>Computer Science</td>\n",
       "      <td>181124.38</td>\n",
       "      <td>M</td>\n",
       "    </tr>\n",
       "    <tr>\n",
       "      <th>4</th>\n",
       "      <td>Alawini, Abdussalam Alhadi M</td>\n",
       "      <td>TEACHING ASST PROF</td>\n",
       "      <td>TEACHING ASST PROF</td>\n",
       "      <td>Engineering</td>\n",
       "      <td>Computer Science</td>\n",
       "      <td>90000.00</td>\n",
       "      <td>M</td>\n",
       "    </tr>\n",
       "    <tr>\n",
       "      <th>...</th>\n",
       "      <td>...</td>\n",
       "      <td>...</td>\n",
       "      <td>...</td>\n",
       "      <td>...</td>\n",
       "      <td>...</td>\n",
       "      <td>...</td>\n",
       "      <td>...</td>\n",
       "    </tr>\n",
       "    <tr>\n",
       "      <th>128</th>\n",
       "      <td>Stepanov, Alexey G</td>\n",
       "      <td>SR LECTURER</td>\n",
       "      <td>SR LECTURER</td>\n",
       "      <td>Liberal Arts &amp; Sciences</td>\n",
       "      <td>Statistics</td>\n",
       "      <td>81001.00</td>\n",
       "      <td>M</td>\n",
       "    </tr>\n",
       "    <tr>\n",
       "      <th>129</th>\n",
       "      <td>Unger, David</td>\n",
       "      <td>SR INSTRUCTOR</td>\n",
       "      <td>SR INSTRUCTOR</td>\n",
       "      <td>Liberal Arts &amp; Sciences</td>\n",
       "      <td>Statistics</td>\n",
       "      <td>87582.80</td>\n",
       "      <td>M</td>\n",
       "    </tr>\n",
       "    <tr>\n",
       "      <th>130</th>\n",
       "      <td>Yang, Yun</td>\n",
       "      <td>ASST PROF</td>\n",
       "      <td>ASST PROF</td>\n",
       "      <td>Liberal Arts &amp; Sciences</td>\n",
       "      <td>Statistics</td>\n",
       "      <td>102000.00</td>\n",
       "      <td>M</td>\n",
       "    </tr>\n",
       "    <tr>\n",
       "      <th>131</th>\n",
       "      <td>Zhao, Sihai Dave</td>\n",
       "      <td>ASST PROF</td>\n",
       "      <td>ASST PROF</td>\n",
       "      <td>Liberal Arts &amp; Sciences</td>\n",
       "      <td>Statistics</td>\n",
       "      <td>93219.09</td>\n",
       "      <td>M</td>\n",
       "    </tr>\n",
       "    <tr>\n",
       "      <th>132</th>\n",
       "      <td>Zhu, Ruoqing</td>\n",
       "      <td>ASST PROF</td>\n",
       "      <td>ASST PROF</td>\n",
       "      <td>Liberal Arts &amp; Sciences</td>\n",
       "      <td>Statistics</td>\n",
       "      <td>94849.60</td>\n",
       "      <td>M</td>\n",
       "    </tr>\n",
       "  </tbody>\n",
       "</table>\n",
       "<p>133 rows × 7 columns</p>\n",
       "</div>"
      ],
      "text/plain": [
       "                    Employee Name      Academic Title   Primary Job Title  \\\n",
       "0               Abdelzaher, Tarek                PROF                PROF   \n",
       "1                  Adve, Sarita V                PROF                PROF   \n",
       "2           Adve, Vikram Sadanand                PROF                PROF   \n",
       "3                     Agha, Gul A                PROF                PROF   \n",
       "4    Alawini, Abdussalam Alhadi M  TEACHING ASST PROF  TEACHING ASST PROF   \n",
       "..                            ...                 ...                 ...   \n",
       "128            Stepanov, Alexey G         SR LECTURER         SR LECTURER   \n",
       "129                  Unger, David       SR INSTRUCTOR       SR INSTRUCTOR   \n",
       "130                     Yang, Yun           ASST PROF           ASST PROF   \n",
       "131              Zhao, Sihai Dave           ASST PROF           ASST PROF   \n",
       "132                  Zhu, Ruoqing           ASST PROF           ASST PROF   \n",
       "\n",
       "             Primary College Primary Department     Salary Gender  \n",
       "0                Engineering   Computer Science  164851.00      M  \n",
       "1                Engineering   Computer Science  180490.00      F  \n",
       "2                Engineering   Computer Science  186454.00      M  \n",
       "3                Engineering   Computer Science  181124.38      M  \n",
       "4                Engineering   Computer Science   90000.00      M  \n",
       "..                       ...                ...        ...    ...  \n",
       "128  Liberal Arts & Sciences         Statistics   81001.00      M  \n",
       "129  Liberal Arts & Sciences         Statistics   87582.80      M  \n",
       "130  Liberal Arts & Sciences         Statistics  102000.00      M  \n",
       "131  Liberal Arts & Sciences         Statistics   93219.09      M  \n",
       "132  Liberal Arts & Sciences         Statistics   94849.60      M  \n",
       "\n",
       "[133 rows x 7 columns]"
      ]
     },
     "execution_count": 11,
     "metadata": {},
     "output_type": "execute_result"
    }
   ],
   "source": [
    "#DELETE THIS CELL - FOR MY OWN PURPOSES ONLY \n",
    "sc = pd.read_csv(\"statcssalaries-t.csv\")\n",
    "sc"
   ]
  },
  {
   "cell_type": "markdown",
   "metadata": {},
   "source": [
    "### Puzzle 3.2: Gender breakdown\n",
    "Hopefully, you noticed something interesting about this dataset: the far right column specifies the gender of each employee! Let's do some analysis with this new information.\n",
    "\n",
    "Create two new datasets: one for all male stats and cs employees, and one for all female stats and cs employees. Next, create two box plots of the male and female salaries."
   ]
  },
  {
   "cell_type": "code",
   "execution_count": null,
   "metadata": {},
   "outputs": [],
   "source": [
    "#Create your two smaller dataframes here\n",
    "scm = ...\n",
    "scf = ..."
   ]
  },
  {
   "cell_type": "code",
   "execution_count": null,
   "metadata": {},
   "outputs": [],
   "source": [
    "#Box plot for male employees\n"
   ]
  },
  {
   "cell_type": "code",
   "execution_count": null,
   "metadata": {},
   "outputs": [],
   "source": [
    "#Box plot for female employees\n"
   ]
  },
  {
   "cell_type": "markdown",
   "metadata": {},
   "source": [
    "### Puzzle 3.3: Interpreting the plots\n",
    "❓ **Individual Reflection Question** ❓ Based on the above plots, what can you conclude about the salary data for males and females employed by Statistics and Computer Science? What do you think is the average salary for each? "
   ]
  },
  {
   "cell_type": "markdown",
   "metadata": {},
   "source": [
    "***Double click this cell to type your response to the individual reflection question here.*** "
   ]
  },
  {
   "cell_type": "markdown",
   "metadata": {},
   "source": [
    "### Puzzle 3.4: Calculating Salary Discrepancies\n",
    "***Part 1*** \n",
    "\n",
    "In the cell below, calculate the overall mean, median, and standard deviation for the male and female salaries."
   ]
  },
  {
   "cell_type": "code",
   "execution_count": 17,
   "metadata": {},
   "outputs": [
    {
     "name": "stdout",
     "output_type": "stream",
     "text": [
      "male average: Ellipsis\n",
      "male median: Ellipsis\n",
      "male sd: Ellipsis\n"
     ]
    }
   ],
   "source": [
    "# male calculations\n",
    "mean_salary_m = ...\n",
    "print(\"male average: \" + str(mean_salary_m))\n",
    "\n",
    "median_salary_m = ...\n",
    "print(\"male median: \" + str(median_salary_m))\n",
    "\n",
    "sd_salary_m = ...\n",
    "print(\"male sd: \" + str(sd_salary_m))"
   ]
  },
  {
   "cell_type": "code",
   "execution_count": null,
   "metadata": {},
   "outputs": [],
   "source": [
    "# female calculations\n",
    "mean_salary_f = ...\n",
    "print(\"female average: \" + str(mean_salary_f))\n",
    "\n",
    "median_salary_f = ...\n",
    "print(\"female median: \" + str(median_salary_f))\n",
    "\n",
    "sd_salary_f = ...\n",
    "print(\"femmale sd: \" + str(sd_salary_f))"
   ]
  },
  {
   "cell_type": "markdown",
   "metadata": {},
   "source": [
    "***Part 2***\n",
    "\n",
    "Next, calculate the difference in male and female employees' average salaries."
   ]
  },
  {
   "cell_type": "code",
   "execution_count": 18,
   "metadata": {},
   "outputs": [
    {
     "data": {
      "text/plain": [
       "Ellipsis"
      ]
     },
     "execution_count": 18,
     "metadata": {},
     "output_type": "execute_result"
    }
   ],
   "source": [
    "#calculate difference here\n",
    "avg_diff = ...\n",
    "avg_diff"
   ]
  },
  {
   "cell_type": "code",
   "execution_count": 19,
   "metadata": {},
   "outputs": [
    {
     "name": "stdout",
     "output_type": "stream",
     "text": [
      "🎉 All tests passed! 🎉\n"
     ]
    }
   ],
   "source": [
    "## == TEST CASES for Puzzle 3.4 ==\n",
    "# - This read-only cell contains test cases for your previous cell.\n",
    "# - If this cell runs with a message (with the emoji showing), you PASSED all test cases!\n",
    "# - If this cell results in any errors, check your previous cell, make changes, and RE-RUN your code and then this cell.\n",
    "\n",
    "        #Someone help me write this because I have no idea how\n",
    "\n",
    "## == SUCCESS MESSAGE ==\n",
    "# You will only see this message (with the emoji showing) if you passed all test cases:\n",
    "tada = \"\\N{PARTY POPPER}\"\n",
    "print(f\"{tada} All tests passed! {tada}\")"
   ]
  },
  {
   "cell_type": "markdown",
   "metadata": {},
   "source": [
    "### Puzzle 3.5: Assessing your suspicions\n",
    "\n",
    "❓ **Individual Reflection Question** ❓ Were your conjectures about the box plots confirmed or denied by the calculations in the last puzzle? Write a sentence or two. \n"
   ]
  },
  {
   "cell_type": "markdown",
   "metadata": {},
   "source": [
    "***Double click this cell to type your response to the individual reflection question here.*** "
   ]
  },
  {
   "cell_type": "markdown",
   "metadata": {},
   "source": [
    "## Homework\n",
    "\n",
    "At this point, you should be wrapping up Day 1 of the project. You and your group should be fluent with salary data and have a solid idea about how this data can relate to social justice.\n",
    "\n",
    "You have a few tasks for homework before the next lab section. These tasks will help you prepare for the last leg of the salary journey!"
   ]
  },
  {
   "cell_type": "markdown",
   "metadata": {},
   "source": [
    "### Task 1\n",
    "Finish any of the puzzles from parts 1 and 2 that you didn't get around to during your lab section. If you need help, remember, office hours are open nearly every day!"
   ]
  },
  {
   "cell_type": "markdown",
   "metadata": {},
   "source": [
    "### Task 2\n",
    "\n",
    "Recall the second dataframe we worked with, `statsandcssalaries.csv`. It was cleaner and included more information than the original salary dataframe. \n",
    "\n",
    "Cleaning up data is a sometimes tedious but always essential part of data science. Without it, calculations and predictions could be incorrect and visualizations could be incomplete. Let's get some practice with it!\n",
    "\n",
    "Remember the dataframe you created in **Puzzle 2.4** containing only employees from your home department? We want it to look more like the `statsandcssalaries.csv`, complete with gender information. Modify the dataframe so it meets the following requirements: \n",
    "- there should be a new column specifying the gender of each employee, indicated by `M` or `F`.\n",
    "- if any employees have missing positions, fill those in.\n",
    "    - Use the following notation to replace a single value:\n",
    "    \n",
    "        `df[\"column name\"][index number] = \"new value\"`\n",
    "    - We recommend resetting the index of your department dataframe so it's easier to see which row is which.\n",
    "\n",
    "If you don't know the gender or the position of the professor, do some research on the internet!"
   ]
  },
  {
   "cell_type": "code",
   "execution_count": 20,
   "metadata": {},
   "outputs": [],
   "source": [
    "#Modify your dataframe, using as many cells as you need.\n"
   ]
  },
  {
   "cell_type": "markdown",
   "metadata": {},
   "source": [
    "### Task 3\n",
    "Begin planning for part 3 of the project. Read through the instructions, select some interesting datasets, and start brainstorming questions and how you might answer them through data science!"
   ]
  },
  {
   "cell_type": "markdown",
   "metadata": {},
   "source": [
    "***Double click to add notes from your planning here. You must demonstrate that you have created a framework for your Day 2 analysis.*** "
   ]
  },
  {
   "cell_type": "markdown",
   "metadata": {},
   "source": [
    "# Part 3: Make a Change\n",
    "Now, you're prepared to dive into your own analysis of salary data. You can use both dataframes from the earlier puzzles, your edited department dataframe, any of the dataframes linked below, or any combination in your analysis. The question that should guide your work is:\n",
    "\n",
    "### **What, if anything, should be changed about the salaries of University of Illinois employees?**\n",
    "\n",
    "This can be about anything you want. Here's some example questions to get the gears turning. Feel free to use one of these or formulate your own question!\n",
    "- How does UIUC compare to other BIG 10 schools in terms of what they pay their faculty?\n",
    "- Are there salary disparities if we stratify based on ethnicity?\n",
    "- How has this data changed over time?\n",
    "- Are differences in salaries justified based on required experience or amount of work?\n",
    "- Do certain departments have an unfair edge against the others?\n",
    "\n",
    "In your analysis, include descriptive statistics, calculations, comparisons, visualizations –– whatever will give us a complete picture of your question and how you answered it. Use as many python cells as you need! Include comments and markdown cells to give short explanations as you go. The puzzles and homework from earlier in the project are good inspiration for formatting your analysis.\n",
    "\n",
    "After you complete your analysis, you will create a short proposal for what you believe should change and why. Good luck, and may the force –– I mean, data –– be with you!\n"
   ]
  },
  {
   "cell_type": "markdown",
   "metadata": {},
   "source": [
    "### Useful Datasets\n",
    "\n",
    "Graybooks for other BIG 10 Universities \n",
    "- iowa.csv\n",
    "- wisconsin.csv\n",
    "\n",
    "UIUC Graybooks from previous years\n",
    "- 2020.csv\n",
    "- 2010.csv \n",
    "\n",
    "\n",
    "***(do we have access to these? let me know if this is possible)***"
   ]
  },
  {
   "cell_type": "code",
   "execution_count": null,
   "metadata": {},
   "outputs": [],
   "source": [
    "#put your analysis here!"
   ]
  },
  {
   "cell_type": "code",
   "execution_count": null,
   "metadata": {},
   "outputs": [],
   "source": [
    "#and here"
   ]
  },
  {
   "cell_type": "code",
   "execution_count": null,
   "metadata": {},
   "outputs": [],
   "source": [
    "#and here"
   ]
  },
  {
   "cell_type": "markdown",
   "metadata": {},
   "source": [
    "# Your Proposal\n",
    "\n",
    "Data science is cool, but it won't make a difference unless we tell people about it. \n",
    "\n",
    "Next week, you will present your proposed salary changes to the University of Illinois System **Board of Trustees** at an official meeitng. (Not really. But just pretend like you are.) It's a little nerve-wracking, but don't worry –– you have data to back up your argument. \n",
    "\n",
    "Create a short proposal highlighting the issue you addressed and how to solve it. Back up your argument with the calculations, visualizations, and any other information you discovered during your analysis.\n",
    "\n",
    "Some possible formats for the proposal include:\n",
    "- a letter to the board (if you choose this, format it like an actual letter!)\n",
    "- a video recording of a speech\n",
    "- a presentation with voice over (google slides, powerpoint)\n",
    "\n",
    "In written form, you should have at least one page of text and visualizations. However, your visualizations shouldn't take up more space than necessary. If you do a speech or a presentation, it should be around 2-3 minutes."
   ]
  },
  {
   "cell_type": "markdown",
   "metadata": {},
   "source": [
    "### Turning in your proposal\n",
    "\n",
    "(insert instructions here)"
   ]
  },
  {
   "cell_type": "markdown",
   "metadata": {},
   "source": [
    "# Post-lab survey \n",
    "(insert if we're doing it)"
   ]
  },
  {
   "cell_type": "markdown",
   "metadata": {},
   "source": [
    "# el fin. \n",
    "This concludes Project: Salary. Thank you for embarking on this journey with us!"
   ]
  }
 ],
 "metadata": {
  "interpreter": {
   "hash": "aee8b7b246df8f9039afb4144a1f6fd8d2ca17a180786b69acc140d282b71a49"
  },
  "kernelspec": {
   "display_name": "Python 3.9.6 64-bit",
   "language": "python",
   "name": "python3"
  },
  "language_info": {
   "codemirror_mode": {
    "name": "ipython",
    "version": 3
   },
   "file_extension": ".py",
   "mimetype": "text/x-python",
   "name": "python",
   "nbconvert_exporter": "python",
   "pygments_lexer": "ipython3",
   "version": "3.9.6"
  },
  "orig_nbformat": 4
 },
 "nbformat": 4,
 "nbformat_minor": 2
}
