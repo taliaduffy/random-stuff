{
 "cells": [
  {
   "cell_type": "code",
   "execution_count": 2,
   "metadata": {},
   "outputs": [],
   "source": [
    "import pandas as pd\n",
    "df = pd.read_csv(\"firewall-project.csv\")"
   ]
  },
  {
   "cell_type": "code",
   "execution_count": 3,
   "metadata": {},
   "outputs": [
    {
     "data": {
      "text/html": [
       "<div>\n",
       "<style scoped>\n",
       "    .dataframe tbody tr th:only-of-type {\n",
       "        vertical-align: middle;\n",
       "    }\n",
       "\n",
       "    .dataframe tbody tr th {\n",
       "        vertical-align: top;\n",
       "    }\n",
       "\n",
       "    .dataframe thead th {\n",
       "        text-align: right;\n",
       "    }\n",
       "</style>\n",
       "<table border=\"1\" class=\"dataframe\">\n",
       "  <thead>\n",
       "    <tr style=\"text-align: right;\">\n",
       "      <th></th>\n",
       "      <th>CommitteeName</th>\n",
       "      <th>ContributedBy</th>\n",
       "      <th>RcvdDate</th>\n",
       "      <th>Amount</th>\n",
       "      <th>Address1</th>\n",
       "      <th>Address2</th>\n",
       "      <th>City</th>\n",
       "      <th>State</th>\n",
       "      <th>Zip</th>\n",
       "    </tr>\n",
       "  </thead>\n",
       "  <tbody>\n",
       "    <tr>\n",
       "      <th>0</th>\n",
       "      <td>The Firewall Project</td>\n",
       "      <td>Alarm Detection Systems, Inc</td>\n",
       "      <td>9/26/2022</td>\n",
       "      <td>25000</td>\n",
       "      <td>1111 Church Rd</td>\n",
       "      <td>NaN</td>\n",
       "      <td>Aurora</td>\n",
       "      <td>IL</td>\n",
       "      <td>60505</td>\n",
       "    </tr>\n",
       "    <tr>\n",
       "      <th>1</th>\n",
       "      <td>The Firewall Project</td>\n",
       "      <td>Aldridge, Kenneth</td>\n",
       "      <td>10/31/2022</td>\n",
       "      <td>10000</td>\n",
       "      <td>844 E Rockland Rd</td>\n",
       "      <td>NaN</td>\n",
       "      <td>Libertyville</td>\n",
       "      <td>IL</td>\n",
       "      <td>60048</td>\n",
       "    </tr>\n",
       "    <tr>\n",
       "      <th>2</th>\n",
       "      <td>The Firewall Project</td>\n",
       "      <td>Alfirevich, John</td>\n",
       "      <td>11/2/2022</td>\n",
       "      <td>1000</td>\n",
       "      <td>8588 W 159th St</td>\n",
       "      <td>NaN</td>\n",
       "      <td>Orland Park</td>\n",
       "      <td>IL</td>\n",
       "      <td>60462</td>\n",
       "    </tr>\n",
       "    <tr>\n",
       "      <th>3</th>\n",
       "      <td>The Firewall Project</td>\n",
       "      <td>Allen, Charles</td>\n",
       "      <td>10/26/2022</td>\n",
       "      <td>2000</td>\n",
       "      <td>156 Woodstock Ave</td>\n",
       "      <td>NaN</td>\n",
       "      <td>Kenilworth</td>\n",
       "      <td>IL</td>\n",
       "      <td>60043</td>\n",
       "    </tr>\n",
       "    <tr>\n",
       "      <th>4</th>\n",
       "      <td>The Firewall Project</td>\n",
       "      <td>Auriemma, William</td>\n",
       "      <td>11/6/2022</td>\n",
       "      <td>2500</td>\n",
       "      <td>706 forest glen lane</td>\n",
       "      <td>NaN</td>\n",
       "      <td>oak brook</td>\n",
       "      <td>IL</td>\n",
       "      <td>60533</td>\n",
       "    </tr>\n",
       "    <tr>\n",
       "      <th>...</th>\n",
       "      <td>...</td>\n",
       "      <td>...</td>\n",
       "      <td>...</td>\n",
       "      <td>...</td>\n",
       "      <td>...</td>\n",
       "      <td>...</td>\n",
       "      <td>...</td>\n",
       "      <td>...</td>\n",
       "      <td>...</td>\n",
       "    </tr>\n",
       "    <tr>\n",
       "      <th>58</th>\n",
       "      <td>The Firewall Project</td>\n",
       "      <td>Tracy, Don</td>\n",
       "      <td>10/26/2022</td>\n",
       "      <td>5000</td>\n",
       "      <td>1429 E Lake Shore Drive</td>\n",
       "      <td>NaN</td>\n",
       "      <td>Springfield</td>\n",
       "      <td>IL</td>\n",
       "      <td>62712</td>\n",
       "    </tr>\n",
       "    <tr>\n",
       "      <th>59</th>\n",
       "      <td>The Firewall Project</td>\n",
       "      <td>Van Klompenberg, Brian</td>\n",
       "      <td>11/2/2022</td>\n",
       "      <td>1000</td>\n",
       "      <td>511 Ridge Rd</td>\n",
       "      <td>NaN</td>\n",
       "      <td>Kenilworth</td>\n",
       "      <td>IL</td>\n",
       "      <td>60043</td>\n",
       "    </tr>\n",
       "    <tr>\n",
       "      <th>60</th>\n",
       "      <td>The Firewall Project</td>\n",
       "      <td>Warren, Victor</td>\n",
       "      <td>11/4/2022</td>\n",
       "      <td>500</td>\n",
       "      <td>404 Bridgeway Ct</td>\n",
       "      <td>NaN</td>\n",
       "      <td>Oak Brook</td>\n",
       "      <td>IL</td>\n",
       "      <td>60523</td>\n",
       "    </tr>\n",
       "    <tr>\n",
       "      <th>61</th>\n",
       "      <td>The Firewall Project</td>\n",
       "      <td>Wegner, Ken</td>\n",
       "      <td>9/30/2022</td>\n",
       "      <td>25000</td>\n",
       "      <td>268 Cottage Hill Avenue</td>\n",
       "      <td>NaN</td>\n",
       "      <td>Elmhurst</td>\n",
       "      <td>IL</td>\n",
       "      <td>60126</td>\n",
       "    </tr>\n",
       "    <tr>\n",
       "      <th>62</th>\n",
       "      <td>The Firewall Project</td>\n",
       "      <td>WOODS, GEORGE</td>\n",
       "      <td>10/26/2022</td>\n",
       "      <td>5000</td>\n",
       "      <td>480 W Seminary Ave</td>\n",
       "      <td>NaN</td>\n",
       "      <td>Wheaton</td>\n",
       "      <td>IL</td>\n",
       "      <td>60187</td>\n",
       "    </tr>\n",
       "  </tbody>\n",
       "</table>\n",
       "<p>63 rows × 9 columns</p>\n",
       "</div>"
      ],
      "text/plain": [
       "           CommitteeName                 ContributedBy    RcvdDate  Amount  \\\n",
       "0   The Firewall Project  Alarm Detection Systems, Inc   9/26/2022   25000   \n",
       "1   The Firewall Project             Aldridge, Kenneth  10/31/2022   10000   \n",
       "2   The Firewall Project              Alfirevich, John   11/2/2022    1000   \n",
       "3   The Firewall Project                Allen, Charles  10/26/2022    2000   \n",
       "4   The Firewall Project             Auriemma, William   11/6/2022    2500   \n",
       "..                   ...                           ...         ...     ...   \n",
       "58  The Firewall Project                    Tracy, Don  10/26/2022    5000   \n",
       "59  The Firewall Project        Van Klompenberg, Brian   11/2/2022    1000   \n",
       "60  The Firewall Project                Warren, Victor   11/4/2022     500   \n",
       "61  The Firewall Project                   Wegner, Ken   9/30/2022   25000   \n",
       "62  The Firewall Project                 WOODS, GEORGE  10/26/2022    5000   \n",
       "\n",
       "                   Address1 Address2          City State    Zip  \n",
       "0            1111 Church Rd      NaN        Aurora    IL  60505  \n",
       "1         844 E Rockland Rd      NaN  Libertyville    IL  60048  \n",
       "2           8588 W 159th St      NaN   Orland Park    IL  60462  \n",
       "3         156 Woodstock Ave      NaN    Kenilworth    IL  60043  \n",
       "4      706 forest glen lane      NaN     oak brook    IL  60533  \n",
       "..                      ...      ...           ...   ...    ...  \n",
       "58  1429 E Lake Shore Drive      NaN   Springfield    IL  62712  \n",
       "59             511 Ridge Rd      NaN    Kenilworth    IL  60043  \n",
       "60         404 Bridgeway Ct      NaN     Oak Brook    IL  60523  \n",
       "61  268 Cottage Hill Avenue      NaN      Elmhurst    IL  60126  \n",
       "62       480 W Seminary Ave      NaN       Wheaton    IL  60187  \n",
       "\n",
       "[63 rows x 9 columns]"
      ]
     },
     "execution_count": 3,
     "metadata": {},
     "output_type": "execute_result"
    }
   ],
   "source": [
    "df = df[[\"CommitteeName\", \"ContributedBy\", \"RcvdDate\", \"Amount\", \"Address1\", \"Address2\", \"City\", \"State\", \"Zip\"]]\n",
    "df"
   ]
  },
  {
   "cell_type": "code",
   "execution_count": 4,
   "metadata": {},
   "outputs": [
    {
     "data": {
      "text/plain": [
       "1386550"
      ]
     },
     "execution_count": 4,
     "metadata": {},
     "output_type": "execute_result"
    }
   ],
   "source": [
    "df[\"Amount\"].sum()"
   ]
  },
  {
   "cell_type": "code",
   "execution_count": 5,
   "metadata": {},
   "outputs": [
    {
     "data": {
      "text/plain": [
       "array([2022])"
      ]
     },
     "execution_count": 5,
     "metadata": {},
     "output_type": "execute_result"
    }
   ],
   "source": [
    "df[\"Year\"] = pd.DatetimeIndex(data = df[\"RcvdDate\"]).year\n",
    "#df[\"Amount received month\"] = pd.DatetimeIndex(data = df[\"Amount Received Date\"]).month\n",
    "#df[\"Amount received day\"] = pd.DatetimeIndex(data = df[\"Amount Received Date\"]).day\n",
    "#df[\"Report received year\"] = pd.DatetimeIndex(data = df[\"Report Received Date\"]).year\n",
    "#df[\"Report received month\"] = pd.DatetimeIndex(data = df[\"Report Received Date\"]).month\n",
    "#df[\"Report received day\"] = pd.DatetimeIndex(data = df[\"Report Received Date\"]).day\n",
    "df[\"Year\"].unique()"
   ]
  },
  {
   "cell_type": "code",
   "execution_count": 6,
   "metadata": {},
   "outputs": [
    {
     "data": {
      "text/plain": [
       "array(['IL', 'FL'], dtype=object)"
      ]
     },
     "execution_count": 6,
     "metadata": {},
     "output_type": "execute_result"
    }
   ],
   "source": [
    "df[\"State\"].unique()"
   ]
  },
  {
   "cell_type": "code",
   "execution_count": 7,
   "metadata": {},
   "outputs": [
    {
     "data": {
      "text/html": [
       "<div>\n",
       "<style scoped>\n",
       "    .dataframe tbody tr th:only-of-type {\n",
       "        vertical-align: middle;\n",
       "    }\n",
       "\n",
       "    .dataframe tbody tr th {\n",
       "        vertical-align: top;\n",
       "    }\n",
       "\n",
       "    .dataframe thead th {\n",
       "        text-align: right;\n",
       "    }\n",
       "</style>\n",
       "<table border=\"1\" class=\"dataframe\">\n",
       "  <thead>\n",
       "    <tr style=\"text-align: right;\">\n",
       "      <th></th>\n",
       "      <th>CommitteeName</th>\n",
       "      <th>ContributedBy</th>\n",
       "      <th>RcvdDate</th>\n",
       "      <th>Amount</th>\n",
       "      <th>Address1</th>\n",
       "      <th>Address2</th>\n",
       "      <th>City</th>\n",
       "      <th>State</th>\n",
       "      <th>Zip</th>\n",
       "      <th>Year</th>\n",
       "    </tr>\n",
       "  </thead>\n",
       "  <tbody>\n",
       "    <tr>\n",
       "      <th>28</th>\n",
       "      <td>The Firewall Project</td>\n",
       "      <td>Grohne, David</td>\n",
       "      <td>10/31/2022</td>\n",
       "      <td>25000</td>\n",
       "      <td>5750 Midnight Pass Rd</td>\n",
       "      <td>Bldg E, Unit 310</td>\n",
       "      <td>Sarasota</td>\n",
       "      <td>FL</td>\n",
       "      <td>34242</td>\n",
       "      <td>2022</td>\n",
       "    </tr>\n",
       "    <tr>\n",
       "      <th>52</th>\n",
       "      <td>The Firewall Project</td>\n",
       "      <td>Skinner, Samuel</td>\n",
       "      <td>11/4/2022</td>\n",
       "      <td>1000</td>\n",
       "      <td>831 Harborshore Drive</td>\n",
       "      <td>NaN</td>\n",
       "      <td>Boca Grande</td>\n",
       "      <td>FL</td>\n",
       "      <td>33921</td>\n",
       "      <td>2022</td>\n",
       "    </tr>\n",
       "    <tr>\n",
       "      <th>56</th>\n",
       "      <td>The Firewall Project</td>\n",
       "      <td>Tepas, Gary</td>\n",
       "      <td>10/11/2022</td>\n",
       "      <td>5000</td>\n",
       "      <td>1119 Dormie Dr</td>\n",
       "      <td>NaN</td>\n",
       "      <td>Naples</td>\n",
       "      <td>FL</td>\n",
       "      <td>34108</td>\n",
       "      <td>2022</td>\n",
       "    </tr>\n",
       "  </tbody>\n",
       "</table>\n",
       "</div>"
      ],
      "text/plain": [
       "           CommitteeName    ContributedBy    RcvdDate  Amount  \\\n",
       "28  The Firewall Project    Grohne, David  10/31/2022   25000   \n",
       "52  The Firewall Project  Skinner, Samuel   11/4/2022    1000   \n",
       "56  The Firewall Project      Tepas, Gary  10/11/2022    5000   \n",
       "\n",
       "                 Address1          Address2         City State    Zip  Year  \n",
       "28  5750 Midnight Pass Rd  Bldg E, Unit 310     Sarasota    FL  34242  2022  \n",
       "52  831 Harborshore Drive               NaN  Boca Grande    FL  33921  2022  \n",
       "56         1119 Dormie Dr               NaN       Naples    FL  34108  2022  "
      ]
     },
     "execution_count": 7,
     "metadata": {},
     "output_type": "execute_result"
    }
   ],
   "source": [
    "df[df[\"State\"] == \"FL\"]"
   ]
  },
  {
   "cell_type": "code",
   "execution_count": null,
   "metadata": {},
   "outputs": [],
   "source": []
  }
 ],
 "metadata": {
  "kernelspec": {
   "display_name": "Python 3",
   "language": "python",
   "name": "python3"
  },
  "language_info": {
   "codemirror_mode": {
    "name": "ipython",
    "version": 3
   },
   "file_extension": ".py",
   "mimetype": "text/x-python",
   "name": "python",
   "nbconvert_exporter": "python",
   "pygments_lexer": "ipython3",
   "version": "3.9.6"
  },
  "orig_nbformat": 4,
  "vscode": {
   "interpreter": {
    "hash": "aee8b7b246df8f9039afb4144a1f6fd8d2ca17a180786b69acc140d282b71a49"
   }
  }
 },
 "nbformat": 4,
 "nbformat_minor": 2
}
